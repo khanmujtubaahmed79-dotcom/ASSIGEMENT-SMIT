{
 "cells": [
  {
   "cell_type": "code",
   "execution_count": 2,
   "id": "3c9f3013-56bd-4a60-9891-4f3052998fcf",
   "metadata": {},
   "outputs": [
    {
     "name": "stdout",
     "output_type": "stream",
     "text": [
      "Where, are you last night? .\n"
     ]
    }
   ],
   "source": [
    "txt = \"where, are you last Night? .\"\n",
    "\n",
    "x = txt.capitalize()\n",
    "\n",
    "print (x)\n"
   ]
  },
  {
   "cell_type": "code",
   "execution_count": null,
   "id": "72841350-fde6-4525-857d-646aa840d753",
   "metadata": {},
   "outputs": [],
   "source": [
    "In these Method The first letter of your text is capitalized if you execute code...!\n"
   ]
  },
  {
   "cell_type": "code",
   "execution_count": null,
   "id": "efb553e0-4272-4bb2-b53f-a512ef2db39e",
   "metadata": {},
   "outputs": [],
   "source": [
    "CASEFOLD METHOD()"
   ]
  },
  {
   "cell_type": "code",
   "execution_count": 3,
   "id": "787676cb-7e03-4033-bb67-4946131744b9",
   "metadata": {},
   "outputs": [
    {
     "name": "stdout",
     "output_type": "stream",
     "text": [
      "hey,whatsupp!\n"
     ]
    }
   ],
   "source": [
    "txt = \"Hey,whatsupp!\"\n",
    "\n",
    "x = txt.casefold()\n",
    "\n",
    "print(x)\n"
   ]
  },
  {
   "cell_type": "code",
   "execution_count": null,
   "id": "f85a696a-f06c-4bb7-81f6-2ff5b602f7a8",
   "metadata": {},
   "outputs": [],
   "source": [
    "In these Method The first letter of your txt is turned into a lower Case"
   ]
  },
  {
   "cell_type": "code",
   "execution_count": null,
   "id": "4383bad6-63d5-4e2b-9cac-6f6c980161c5",
   "metadata": {},
   "outputs": [],
   "source": [
    "CENTER() METHOD"
   ]
  },
  {
   "cell_type": "code",
   "execution_count": 8,
   "id": "728465a9-453f-4d15-a4a5-c54758bfbb0d",
   "metadata": {},
   "outputs": [
    {
     "name": "stdout",
     "output_type": "stream",
     "text": [
      "            papaya            \n"
     ]
    }
   ],
   "source": [
    "txt = \"papaya\"\n",
    "\n",
    "x = txt.center(30)\n",
    "\n",
    "print(x)\n"
   ]
  },
  {
   "cell_type": "code",
   "execution_count": null,
   "id": "009a85ae-eb59-4cfb-a11a-e9c6c69b16cc",
   "metadata": {},
   "outputs": [],
   "source": [
    "In These Method we align  a text using space."
   ]
  },
  {
   "cell_type": "code",
   "execution_count": null,
   "id": "c15e95db-ee6a-437f-b213-73c8c7935a3b",
   "metadata": {},
   "outputs": [],
   "source": [
    "COUNT() METHOD"
   ]
  },
  {
   "cell_type": "code",
   "execution_count": 11,
   "id": "6e6da266-64e5-422f-8a4c-b4939d287780",
   "metadata": {},
   "outputs": [
    {
     "name": "stdout",
     "output_type": "stream",
     "text": [
      "2\n"
     ]
    }
   ],
   "source": [
    "txt = \"I want Toys, I used to play with Toys in my teenage \"\n",
    "\n",
    "x = txt.count(\"Toys\")\n",
    "\n",
    "print(x)\n"
   ]
  },
  {
   "cell_type": "code",
   "execution_count": null,
   "id": "3ff4f5a4-5d73-49a8-a16f-60bf75f0b3da",
   "metadata": {},
   "outputs": [],
   "source": [
    "In these Method we know that how many times a similar word used in our code."
   ]
  },
  {
   "cell_type": "code",
   "execution_count": null,
   "id": "2bdcbc90-d15a-458e-95ae-107ea0ceec0d",
   "metadata": {},
   "outputs": [],
   "source": [
    "endswith() METHOD"
   ]
  },
  {
   "cell_type": "code",
   "execution_count": 12,
   "id": "c0409bce-f6b8-4c21-a190-c965c28f40e6",
   "metadata": {},
   "outputs": [
    {
     "name": "stdout",
     "output_type": "stream",
     "text": [
      "True\n"
     ]
    }
   ],
   "source": [
    "txt = \"Where. are you off to?\"\n",
    "\n",
    "x = txt.endswith(\"off to?\")\n",
    "\n",
    "print(x)\n"
   ]
  },
  {
   "cell_type": "code",
   "execution_count": null,
   "id": "5290be7a-5884-4556-97f3-aec112fa1736",
   "metadata": {},
   "outputs": [],
   "source": [
    "In these Method we understand that if our logic is right it returns with true otherwise it returns with false."
   ]
  },
  {
   "cell_type": "code",
   "execution_count": null,
   "id": "46df0e8a-49a7-4386-90d0-5e33940744ec",
   "metadata": {},
   "outputs": [],
   "source": [
    "expandtabs() METHOD"
   ]
  },
  {
   "cell_type": "code",
   "execution_count": 18,
   "id": "243a912a-33c2-4ea6-9814-c45c7ebf0b09",
   "metadata": {},
   "outputs": [
    {
     "name": "stdout",
     "output_type": "stream",
     "text": [
      "A       e       r       o       p       l       a       n       e\n"
     ]
    }
   ],
   "source": [
    "txt = \"A\\te\\tr\\to\\tp\\tl\\ta\\tn\\te\"\n",
    "\n",
    "x =  txt.expandtabs(8)\n",
    "\n",
    "print(x)\n"
   ]
  },
  {
   "cell_type": "code",
   "execution_count": null,
   "id": "0a2317dd-f0c2-4a94-9208-91f73f0fe136",
   "metadata": {},
   "outputs": [],
   "source": [
    "In these Method we know that the text is expand as much we want with the help of \\."
   ]
  },
  {
   "cell_type": "code",
   "execution_count": null,
   "id": "ecb80d5a-8c93-474e-8fcd-fd3ac23cd090",
   "metadata": {},
   "outputs": [],
   "source": [
    "find() METHOD"
   ]
  },
  {
   "cell_type": "code",
   "execution_count": 21,
   "id": "01be4012-6e22-4a76-a1e0-ea66a7631599",
   "metadata": {},
   "outputs": [
    {
     "name": "stdout",
     "output_type": "stream",
     "text": [
      "20\n"
     ]
    }
   ],
   "source": [
    "txt = \"Hello welcome in my garage.\"\n",
    "\n",
    "x = txt.find(\"garage\")\n",
    "\n",
    "print(x)"
   ]
  },
  {
   "cell_type": "code",
   "execution_count": null,
   "id": "c25f1c3f-8984-449f-9979-c8dff387e12c",
   "metadata": {},
   "outputs": [],
   "source": [
    "In These Method we see that we find how many numbers are there in your specified text."
   ]
  },
  {
   "cell_type": "code",
   "execution_count": null,
   "id": "a19c1483-99c9-40d6-bb2b-fd438c0c058e",
   "metadata": {},
   "outputs": [],
   "source": [
    "format() METHOD"
   ]
  },
  {
   "cell_type": "code",
   "execution_count": 24,
   "id": "fbe5feda-de71-45c2-9dfe-e6ec6f9830ff",
   "metadata": {},
   "outputs": [
    {
     "name": "stdout",
     "output_type": "stream",
     "text": [
      "For only 49.00000000 dollars!\n"
     ]
    }
   ],
   "source": [
    "txt = \"For only {price:.8f} dollars!\"\n",
    "print(txt.format(price = 49))\n"
   ]
  },
  {
   "cell_type": "code",
   "execution_count": null,
   "id": "f9ef95f5-1e22-4662-91e8-27a640685874",
   "metadata": {},
   "outputs": [],
   "source": [
    "In These Method we understand that through {} hum kese bhi name ya value ko replace krte hai. "
   ]
  },
  {
   "cell_type": "code",
   "execution_count": null,
   "id": "725a48b4-5168-4009-956d-a3276d8f78a8",
   "metadata": {},
   "outputs": [],
   "source": [
    "index() METHOD"
   ]
  },
  {
   "cell_type": "code",
   "execution_count": 3,
   "id": "7ff7492d-1946-4071-bfde-9d80bdcd4dc8",
   "metadata": {},
   "outputs": [
    {
     "name": "stdout",
     "output_type": "stream",
     "text": [
      "4\n"
     ]
    }
   ],
   "source": [
    "#Where in the text is the first occurrence of the letter \"a\"?:\n",
    "txt = \"Hey.are you ok.\"\n",
    "\n",
    "x = txt.index(\"a\")\n",
    "\n",
    "print(x)\n"
   ]
  },
  {
   "cell_type": "code",
   "execution_count": null,
   "id": "9c745ed8-0f5f-4cd9-b974-963bef9a875b",
   "metadata": {},
   "outputs": [],
   "source": [
    "This Method is used to find the first occurence of specific value or element that we want. \"tell positions\""
   ]
  },
  {
   "cell_type": "code",
   "execution_count": null,
   "id": "6efadda9-533b-4f8b-939b-63e2924bec6d",
   "metadata": {},
   "outputs": [],
   "source": [
    "isalnum() METHOD"
   ]
  },
  {
   "cell_type": "code",
   "execution_count": 9,
   "id": "29803aa9-0384-4e2c-b34c-24e1c6c02e7f",
   "metadata": {},
   "outputs": [
    {
     "name": "stdout",
     "output_type": "stream",
     "text": [
      "True\n"
     ]
    }
   ],
   "source": [
    "txt = \"Hydrophobic8\"\n",
    "\n",
    "x = txt.isalnum()\n",
    "\n",
    "print(x)\n"
   ]
  },
  {
   "cell_type": "code",
   "execution_count": null,
   "id": "8870ce36-467d-4246-a616-6fbc039839a5",
   "metadata": {},
   "outputs": [],
   "source": [
    "in these method we notice that if our all characters are alphanumeric it means it returns with true otherwise it will return false. "
   ]
  },
  {
   "cell_type": "code",
   "execution_count": null,
   "id": "8273f6fa-b39f-4513-acfd-8adeddb7edfb",
   "metadata": {},
   "outputs": [],
   "source": [
    "isalpha() METHOD"
   ]
  },
  {
   "cell_type": "code",
   "execution_count": 10,
   "id": "8c0af8f9-e590-42ce-bc5b-185bf9d70e99",
   "metadata": {},
   "outputs": [
    {
     "name": "stdout",
     "output_type": "stream",
     "text": [
      "True\n"
     ]
    }
   ],
   "source": [
    "txt = \"HYDRoLysIs\"\n",
    "\n",
    "x = txt.isalpha()\n",
    "\n",
    "print(x)\n"
   ]
  },
  {
   "cell_type": "code",
   "execution_count": null,
   "id": "dfd2e2a2-1b8f-41d9-9ee5-f601d75d7777",
   "metadata": {},
   "outputs": [],
   "source": [
    "In These Method we see check that all elements of your text is must be  letters ."
   ]
  },
  {
   "cell_type": "code",
   "execution_count": null,
   "id": "059a7bc2-8f61-4eb6-9eab-a29a129b273d",
   "metadata": {},
   "outputs": [],
   "source": [
    "isdecimal() METHOD"
   ]
  },
  {
   "cell_type": "code",
   "execution_count": null,
   "id": "b61e679e-ba84-4b09-a21e-9b547f3d5a46",
   "metadata": {},
   "outputs": [],
   "source": [
    "txt = \"129465\"\n",
    "\n",
    "x = txt.isdecimal()\n",
    "\n",
    "print(x)\n"
   ]
  },
  {
   "cell_type": "code",
   "execution_count": null,
   "id": "a78ca532-5ec3-4e09-ad82-81f3e1488ece",
   "metadata": {},
   "outputs": [],
   "source": [
    "In These Method we check all elements are between the range of 0to9 and in decimals if its right it returns with true ."
   ]
  },
  {
   "cell_type": "code",
   "execution_count": null,
   "id": "c6c3b8eb-19ee-42a1-8c78-b27ef5a3d9f1",
   "metadata": {},
   "outputs": [],
   "source": [
    "isdigit() METHOD"
   ]
  },
  {
   "cell_type": "code",
   "execution_count": null,
   "id": "4f904335-0f9a-4596-9011-f6721081403b",
   "metadata": {},
   "outputs": [],
   "source": [
    "txt = \"50800\"\n",
    "\n",
    "x = txt.isdigit()\n",
    "\n",
    "print(x)\n"
   ]
  },
  {
   "cell_type": "code",
   "execution_count": null,
   "id": "c8f7fe08-da27-4ec9-9465-28212ef68301",
   "metadata": {},
   "outputs": [],
   "source": [
    "In These Method we will check that all elements must be digit."
   ]
  },
  {
   "cell_type": "code",
   "execution_count": null,
   "id": "af6bf3e9-6ce4-4b98-8493-2d4e59d4d73c",
   "metadata": {},
   "outputs": [],
   "source": [
    "isiidentifier() METHOD"
   ]
  },
  {
   "cell_type": "code",
   "execution_count": 11,
   "id": "6f14b4ee-f278-4cc3-8a94-738cb9d36693",
   "metadata": {},
   "outputs": [
    {
     "name": "stdout",
     "output_type": "stream",
     "text": [
      "True\n"
     ]
    }
   ],
   "source": [
    "txt = \"Motorbike\"\n",
    "\n",
    "x = txt.isidentifier()\n",
    "\n",
    "print(x)\n"
   ]
  },
  {
   "cell_type": "code",
   "execution_count": null,
   "id": "622f54fc-94d7-4d6c-bae5-930d85349fda",
   "metadata": {},
   "outputs": [],
   "source": [
    "In These Method we see that it returns with true if your text is not start with number  or no space between your text."
   ]
  },
  {
   "cell_type": "code",
   "execution_count": null,
   "id": "34cbcae9-b10c-4cba-b928-b362fb4c3c8a",
   "metadata": {},
   "outputs": [],
   "source": [
    "isilower() METHOD"
   ]
  },
  {
   "cell_type": "code",
   "execution_count": 12,
   "id": "245595df-7aa7-4f24-bf0d-f7295d9f2f8f",
   "metadata": {},
   "outputs": [
    {
     "name": "stdout",
     "output_type": "stream",
     "text": [
      "True\n"
     ]
    }
   ],
   "source": [
    "txt = \"hyy grandma!\"\n",
    "\n",
    "x = txt.islower()\n",
    "\n",
    "print(x)\n"
   ]
  },
  {
   "cell_type": "code",
   "execution_count": null,
   "id": "edf3261f-1acd-4635-84dd-efef693f7f81",
   "metadata": {},
   "outputs": [],
   "source": [
    "In These Method we check that all the characters in your text must be in lower case."
   ]
  },
  {
   "cell_type": "code",
   "execution_count": null,
   "id": "c8d71e56-8a5d-42d1-8890-d800460e2d73",
   "metadata": {},
   "outputs": [],
   "source": [
    "isnumeric() METHOD"
   ]
  },
  {
   "cell_type": "code",
   "execution_count": 2,
   "id": "cddc2115-3663-41f3-a118-d2b0cd026efe",
   "metadata": {},
   "outputs": [
    {
     "name": "stdout",
     "output_type": "stream",
     "text": [
      "True\n"
     ]
    }
   ],
   "source": [
    "txt = \"562343\"\n",
    "\n",
    "x = txt.isnumeric()\n",
    "\n",
    "print(x)\n"
   ]
  },
  {
   "cell_type": "code",
   "execution_count": null,
   "id": "6d761a78-0f3c-43cc-9c1a-636844b04a23",
   "metadata": {},
   "outputs": [],
   "source": [
    "In These Method we check that all characters must be numeric."
   ]
  },
  {
   "cell_type": "code",
   "execution_count": null,
   "id": "5486f881-efad-4645-986c-df7807ce537d",
   "metadata": {},
   "outputs": [],
   "source": [
    "isprintable() METHOD"
   ]
  },
  {
   "cell_type": "code",
   "execution_count": 3,
   "id": "fdba7542-016e-439d-bc13-a48ba8b95ee0",
   "metadata": {},
   "outputs": [
    {
     "name": "stdout",
     "output_type": "stream",
     "text": [
      "True\n"
     ]
    }
   ],
   "source": [
    "txt = \"Hello! Are you #1?\"\n",
    "\n",
    "x = txt.isprintable()\n",
    "\n",
    "print(x)\n"
   ]
  },
  {
   "cell_type": "code",
   "execution_count": null,
   "id": "bb141110-bfa4-434e-9eaf-549b0cb6a484",
   "metadata": {},
   "outputs": [],
   "source": [
    "In These Method we will check either all character is printable or not."
   ]
  },
  {
   "cell_type": "code",
   "execution_count": null,
   "id": "a7b41a45-bcda-48de-86b8-988b2e113f9b",
   "metadata": {},
   "outputs": [],
   "source": [
    "isspace() METHOD"
   ]
  },
  {
   "cell_type": "code",
   "execution_count": null,
   "id": "c4ef65e2-045d-4916-b885-f70f83b93326",
   "metadata": {},
   "outputs": [],
   "source": [
    "txt = \"   \"\n",
    "\n",
    "x = txt.isspace()\n",
    "\n",
    "print(x)\n"
   ]
  },
  {
   "cell_type": "code",
   "execution_count": null,
   "id": "7fb38092-a590-4282-8f62-4be8d3b090dd",
   "metadata": {},
   "outputs": [],
   "source": [
    "In These Method we check that if all characters in your text are whitespace."
   ]
  },
  {
   "cell_type": "code",
   "execution_count": null,
   "id": "9c8dddf6-e96b-4e89-baa4-a6e855b730b7",
   "metadata": {},
   "outputs": [],
   "source": [
    "istitle() METHOD"
   ]
  },
  {
   "cell_type": "code",
   "execution_count": 10,
   "id": "45fadfa4-3480-4c65-be78-843a3a7250c9",
   "metadata": {},
   "outputs": [
    {
     "name": "stdout",
     "output_type": "stream",
     "text": [
      "True\n"
     ]
    }
   ],
   "source": [
    "txt = \"Education, Is Key Of Sucess!\"\n",
    "\n",
    "x = txt.istitle()\n",
    "\n",
    "print(x)\n"
   ]
  },
  {
   "cell_type": "code",
   "execution_count": null,
   "id": "ffb2cf48-c720-461b-b702-8c47e148c36f",
   "metadata": {},
   "outputs": [],
   "source": [
    "In These Method we check that each word, first letter start with uppercase."
   ]
  },
  {
   "cell_type": "code",
   "execution_count": null,
   "id": "c191f1ae-14fe-497b-9dff-dd11c36d5988",
   "metadata": {},
   "outputs": [],
   "source": [
    "isupper() METHOD"
   ]
  },
  {
   "cell_type": "code",
   "execution_count": 11,
   "id": "ba6531e9-8a51-4361-ace7-24bf544a7f21",
   "metadata": {},
   "outputs": [
    {
     "name": "stdout",
     "output_type": "stream",
     "text": [
      "True\n"
     ]
    }
   ],
   "source": [
    "txt = \"THIS IS FANTASTIC!\"\n",
    "\n",
    "x = txt.isupper()\n",
    "\n",
    "print(x)\n"
   ]
  },
  {
   "cell_type": "code",
   "execution_count": null,
   "id": "02259bc1-9ebe-4421-b813-cc8b34450ab6",
   "metadata": {},
   "outputs": [],
   "source": [
    "In These Method we check that all characters are in uppercase.."
   ]
  },
  {
   "cell_type": "code",
   "execution_count": null,
   "id": "501d7dc4-aeb1-432f-aa4c-082e42f65adf",
   "metadata": {},
   "outputs": [],
   "source": [
    "join() METHOD"
   ]
  },
  {
   "cell_type": "code",
   "execution_count": 13,
   "id": "135209ac-9ee9-4e93-bd65-0974f88ef863",
   "metadata": {},
   "outputs": [
    {
     "name": "stdout",
     "output_type": "stream",
     "text": [
      "pistachio#cashew#Vanailla\n"
     ]
    }
   ],
   "source": [
    "myTuple = (\"pistachio\", \"cashew\", \"Vanailla\")\n",
    "\n",
    "x = \"#\".join(myTuple)\n",
    "\n",
    "print(x)\n"
   ]
  },
  {
   "cell_type": "code",
   "execution_count": null,
   "id": "35b4e063-78b8-43b1-9c8e-91a0598650cc",
   "metadata": {},
   "outputs": [],
   "source": [
    "This Method joins all separate words into string .."
   ]
  },
  {
   "cell_type": "code",
   "execution_count": null,
   "id": "f99d24f6-ad91-4387-97c8-df542c7b7cfb",
   "metadata": {},
   "outputs": [],
   "source": [
    "lower() METHOD"
   ]
  },
  {
   "cell_type": "code",
   "execution_count": 14,
   "id": "906199b4-c753-490e-ab6f-6efb152c81ad",
   "metadata": {},
   "outputs": [
    {
     "name": "stdout",
     "output_type": "stream",
     "text": [
      "whats going on\n"
     ]
    }
   ],
   "source": [
    "txt = \"WHATS gOING ON\"\n",
    "\n",
    "x = txt.lower()\n",
    "\n",
    "print(x)\n"
   ]
  },
  {
   "cell_type": "code",
   "execution_count": null,
   "id": "8da8d79a-b216-4b6a-867c-1d4d09ff6ddf",
   "metadata": {},
   "outputs": [],
   "source": [
    "This Method convert all uppercase letters into a lower case.."
   ]
  },
  {
   "cell_type": "code",
   "execution_count": null,
   "id": "56887cb5-de16-4460-936f-1a59b1583d34",
   "metadata": {},
   "outputs": [],
   "source": [
    "maketrans() METHOD"
   ]
  },
  {
   "cell_type": "code",
   "execution_count": 16,
   "id": "e164b3de-56ca-47e3-bcf0-d92c734382bd",
   "metadata": {},
   "outputs": [
    {
     "name": "stdout",
     "output_type": "stream",
     "text": [
      "Hello Air!\n"
     ]
    }
   ],
   "source": [
    "txt = \"Hello Sir!\"\n",
    "mytable = str.maketrans(\"S\", \"A\")\n",
    "print(txt.translate(mytable))\n"
   ]
  },
  {
   "cell_type": "code",
   "execution_count": null,
   "id": "5df39c7b-e81b-4c5e-9328-b644b19ba81c",
   "metadata": {},
   "outputs": [],
   "source": [
    "This Method is used to replace specified character."
   ]
  },
  {
   "cell_type": "code",
   "execution_count": null,
   "id": "0105f22a-0a86-4747-bc50-019812e362c0",
   "metadata": {},
   "outputs": [],
   "source": [
    "replace() METHOD"
   ]
  },
  {
   "cell_type": "code",
   "execution_count": 2,
   "id": "0b15a646-845a-4803-be54-28bb596ba8dd",
   "metadata": {},
   "outputs": [
    {
     "name": "stdout",
     "output_type": "stream",
     "text": [
      "I like Guava\n"
     ]
    }
   ],
   "source": [
    "txt = \"I like bananas\"\n",
    "\n",
    "x = txt.replace(\"bananas\", \"Guava\")\n",
    "\n",
    "print(x)\n"
   ]
  },
  {
   "cell_type": "code",
   "execution_count": null,
   "id": "47a9363e-010b-486f-8b04-4c8a6c172078",
   "metadata": {},
   "outputs": [],
   "source": [
    "This Method replace specified word with another specified  phrase or word."
   ]
  },
  {
   "cell_type": "code",
   "execution_count": null,
   "id": "6bd89fcc-ea4b-42ec-92e2-90f2b52dedd4",
   "metadata": {},
   "outputs": [],
   "source": [
    "rfind() METHOD"
   ]
  },
  {
   "cell_type": "code",
   "execution_count": 4,
   "id": "faf2fed5-680e-4346-aefc-59433c9d1c1c",
   "metadata": {},
   "outputs": [
    {
     "name": "stdout",
     "output_type": "stream",
     "text": [
      "13\n"
     ]
    }
   ],
   "source": [
    "txt = \"Mi casa, su  gama.\"\n",
    "\n",
    "x = txt.rfind(\"gama\")\n",
    "\n",
    "print(x)\n"
   ]
  },
  {
   "cell_type": "code",
   "execution_count": null,
   "id": "8cdbaad4-86c7-4554-9eb7-1ed2b2907366",
   "metadata": {},
   "outputs": [],
   "source": [
    "This Method finds the last occurence of the word gama."
   ]
  },
  {
   "cell_type": "code",
   "execution_count": null,
   "id": "90d85e1c-e717-4f39-9a13-06ccf97fe2f5",
   "metadata": {},
   "outputs": [],
   "source": [
    "rindex() METHOD"
   ]
  },
  {
   "cell_type": "code",
   "execution_count": 5,
   "id": "56243652-039e-4e97-862f-af2e72ceae8f",
   "metadata": {},
   "outputs": [
    {
     "name": "stdout",
     "output_type": "stream",
     "text": [
      "12\n"
     ]
    }
   ],
   "source": [
    "txt = \"Mi casa, su casa.\"\n",
    "\n",
    "x = txt.rindex(\"casa\")\n",
    "\n",
    "print(x)\n"
   ]
  },
  {
   "cell_type": "code",
   "execution_count": null,
   "id": "90bbfe9f-67b6-4c8b-8ac1-361742a93cc5",
   "metadata": {},
   "outputs": [],
   "source": [
    "This Method is same as the rfind() Method."
   ]
  },
  {
   "cell_type": "code",
   "execution_count": null,
   "id": "9e9c36d5-670b-42ef-b150-d3cc6f496db6",
   "metadata": {},
   "outputs": [],
   "source": [
    "rjust() METHOD"
   ]
  },
  {
   "cell_type": "code",
   "execution_count": 7,
   "id": "b4e44469-a230-409c-89c6-f6bfe96ff880",
   "metadata": {},
   "outputs": [
    {
     "name": "stdout",
     "output_type": "stream",
     "text": [
      "                     pineapple is my favorite fruit.\n"
     ]
    }
   ],
   "source": [
    "txt = \"pineapple\"\n",
    "\n",
    "x = txt.rjust(30)\n",
    "\n",
    "print(x, \"is my favorite fruit.\")\n"
   ]
  },
  {
   "cell_type": "code",
   "execution_count": null,
   "id": "95b7ab96-05fe-4e35-b707-88c68b87a615",
   "metadata": {},
   "outputs": [],
   "source": [
    "This Method will right allign the string by using specified character \"space\""
   ]
  },
  {
   "cell_type": "code",
   "execution_count": null,
   "id": "0072687f-2130-46be-acb9-a83844c0a45e",
   "metadata": {},
   "outputs": [],
   "source": [
    "rsplit() METHOD"
   ]
  },
  {
   "cell_type": "code",
   "execution_count": 9,
   "id": "d9ebc942-5b6f-41b9-8f4c-575a52e79748",
   "metadata": {},
   "outputs": [
    {
     "name": "stdout",
     "output_type": "stream",
     "text": [
      "['pistachio', 'cashew', 'vanilla']\n"
     ]
    }
   ],
   "source": [
    "txt = \"pistachio, cashew, vanilla\"\n",
    "\n",
    "x = txt.rsplit(\", \")\n",
    "\n",
    "print(x)"
   ]
  },
  {
   "cell_type": "code",
   "execution_count": null,
   "id": "093ec76b-cf7b-4dc4-98b6-cf3834dcf6a4",
   "metadata": {},
   "outputs": [],
   "source": [
    "This Method splits a string into list from the right."
   ]
  },
  {
   "cell_type": "code",
   "execution_count": null,
   "id": "bbb3eaaa-ef6b-4bf8-acfa-d94bca3f5908",
   "metadata": {},
   "outputs": [],
   "source": [
    "startswith() METHOD"
   ]
  },
  {
   "cell_type": "code",
   "execution_count": 11,
   "id": "170477b1-be10-49b2-8cab-4cd3e0ed54df",
   "metadata": {},
   "outputs": [
    {
     "name": "stdout",
     "output_type": "stream",
     "text": [
      "True\n"
     ]
    }
   ],
   "source": [
    "txt = \"WHERE are you off to.\"\n",
    "\n",
    "x = txt.startswith(\"WHERE\")\n",
    "\n",
    "print(x)\n"
   ]
  },
  {
   "cell_type": "code",
   "execution_count": null,
   "id": "9f2ca70f-eb06-4c4d-8da6-4a8ac19b744f",
   "metadata": {},
   "outputs": [],
   "source": [
    "This Method check if string start with the specified value if no returned false."
   ]
  },
  {
   "cell_type": "code",
   "execution_count": null,
   "id": "ea8bd47b-6013-42b8-bc52-a486b1a64834",
   "metadata": {},
   "outputs": [],
   "source": [
    "swapcase() METHOD"
   ]
  },
  {
   "cell_type": "code",
   "execution_count": 1,
   "id": "33d4d0b4-e1a7-4423-83a1-07473a54ebff",
   "metadata": {},
   "outputs": [
    {
     "name": "stdout",
     "output_type": "stream",
     "text": [
      "hELLO mY nAME iS peter\n"
     ]
    }
   ],
   "source": [
    "txt = \"Hello My Name Is PETER\"\n",
    "\n",
    "x = txt.swapcase()\n",
    "\n",
    "print(x)\n"
   ]
  },
  {
   "cell_type": "code",
   "execution_count": null,
   "id": "8d3152d1-7424-486d-8af3-59028f06397d",
   "metadata": {},
   "outputs": [],
   "source": [
    "This Method  Make the lower case letters upper case and the upper case letters lower case:"
   ]
  },
  {
   "cell_type": "code",
   "execution_count": null,
   "id": "95f21acc-6538-48d5-b07a-32924a53356f",
   "metadata": {},
   "outputs": [],
   "source": [
    "title() METHOD"
   ]
  },
  {
   "cell_type": "code",
   "execution_count": 2,
   "id": "b924a361-0f13-43c4-8599-75afad556dc4",
   "metadata": {},
   "outputs": [
    {
     "name": "stdout",
     "output_type": "stream",
     "text": [
      "Welcome In 2025\n"
     ]
    }
   ],
   "source": [
    "txt = \"welcome in 2025\"\n",
    "\n",
    "x = txt.title()\n",
    "\n",
    "print(x)\n"
   ]
  },
  {
   "cell_type": "code",
   "execution_count": null,
   "id": "397ee343-4447-491b-8180-9fd90c569172",
   "metadata": {},
   "outputs": [],
   "source": [
    "This Method Make the. first letter in each word upper case."
   ]
  },
  {
   "cell_type": "code",
   "execution_count": null,
   "id": "5094f79b-1f88-4281-a166-8f749eecaf8d",
   "metadata": {},
   "outputs": [],
   "source": [
    "upper() METHOD"
   ]
  },
  {
   "cell_type": "code",
   "execution_count": 3,
   "id": "cbc19296-8f67-4a1c-8f13-9b0898b6493d",
   "metadata": {},
   "outputs": [
    {
     "name": "stdout",
     "output_type": "stream",
     "text": [
      "YOUR FATHER IS MY BEST FRIEND\n"
     ]
    }
   ],
   "source": [
    "txt = \"your father is my best friend\"\n",
    "\n",
    "x = txt.upper()\n",
    "\n",
    "print(x)\n"
   ]
  },
  {
   "cell_type": "code",
   "execution_count": null,
   "id": "8c88139f-4a79-491e-9488-7484dd3607ef",
   "metadata": {},
   "outputs": [],
   "source": [
    "This Method make all string in upper case.."
   ]
  },
  {
   "cell_type": "code",
   "execution_count": null,
   "id": "9c2e66c1-f1b8-4065-982f-766bb924a8a8",
   "metadata": {},
   "outputs": [],
   "source": [
    "zfill() METHOD"
   ]
  },
  {
   "cell_type": "code",
   "execution_count": 4,
   "id": "ad92b409-50ff-4289-9706-99545c744e2a",
   "metadata": {},
   "outputs": [
    {
     "name": "stdout",
     "output_type": "stream",
     "text": [
      "00000000000050\n"
     ]
    }
   ],
   "source": [
    "txt = \"50\"\n",
    "\n",
    "x = txt.zfill(14)\n",
    "\n",
    "print(x)\n"
   ]
  },
  {
   "cell_type": "code",
   "execution_count": null,
   "id": "7f66348b-c195-44d8-b694-e86ca586842f",
   "metadata": {},
   "outputs": [],
   "source": [
    "This Method adds zeros (0) at the beginning of the string, until it reaches the specified length."
   ]
  }
 ],
 "metadata": {
  "kernelspec": {
   "display_name": "Python 3 (ipykernel)",
   "language": "python",
   "name": "python3"
  },
  "language_info": {
   "codemirror_mode": {
    "name": "ipython",
    "version": 3
   },
   "file_extension": ".py",
   "mimetype": "text/x-python",
   "name": "python",
   "nbconvert_exporter": "python",
   "pygments_lexer": "ipython3",
   "version": "3.13.5"
  }
 },
 "nbformat": 4,
 "nbformat_minor": 5
}
